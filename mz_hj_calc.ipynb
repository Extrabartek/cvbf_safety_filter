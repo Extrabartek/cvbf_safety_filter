{
 "cells": [
  {
   "cell_type": "code",
   "id": "initial_id",
   "metadata": {
    "collapsed": true,
    "ExecuteTime": {
     "end_time": "2025-07-03T13:20:22.162595Z",
     "start_time": "2025-07-03T13:20:21.132848Z"
    }
   },
   "source": [
    "import os\n",
    "os.environ['TF_GPU_ALLOCATOR'] = 'cuda_malloc_async'\n",
    "\n",
    "# from jax import config\n",
    "# config.update(\"jax_enable_x64\", True)\n",
    "\n",
    "import jax.numpy as jnp\n",
    "import numpy as np\n",
    "import plotly.io as pio\n",
    "pio.renderers.default = \"browser\"\n",
    "\n",
    "import matplotlib.pyplot as plt\n",
    "import plotly.graph_objects as go\n",
    "\n",
    "import cbvf_reachability as cbvf\n",
    "\n",
    "from dyn_sys.MzNonlinearCar import MzNonlinearCar\n",
    "from controllers.CBVF_QP import CBVFQPController\n",
    "from controllers.CBVFInterpolator import CBVFInterpolator\n"
   ],
   "outputs": [],
   "execution_count": 1
  },
  {
   "metadata": {
    "ExecuteTime": {
     "end_time": "2025-07-03T13:20:22.781988Z",
     "start_time": "2025-07-03T13:20:22.241417Z"
    }
   },
   "cell_type": "code",
   "source": [
    "dynamics = MzNonlinearCar()\n",
    "\n",
    "# limits of the grid in degrees\n",
    "x1_lim = 250\n",
    "x2_lim = 90\n",
    "\n",
    "x1_lim = x1_lim * jnp.pi / 180\n",
    "x2_lim = x2_lim * jnp.pi / 180\n",
    "\n",
    "grid = cbvf.Grid.from_lattice_parameters_and_boundary_conditions(cbvf.sets.Box(np.array([-x1_lim, -x2_lim]),\n",
    "                                                                           np.array([x1_lim, x2_lim])),\n",
    "                                                                           (500, 500))\n",
    "values_vi = jnp.linalg.norm(grid.states[..., :2], axis=-1) - 5 * jnp.pi / 180  # radius in radians\n",
    "values = jnp.linalg.norm(grid.states[..., :2], axis=-1) - 5 * jnp.pi / 180  # radius in radians\n",
    "initial_values = values_vi.copy()\n",
    "\n",
    "solver_settings = cbvf.SolverSettings.with_accuracy(\n",
    "    \"very_high\",\n",
    "    hamiltonian_postprocessor=cbvf.solver.identity,\n",
    ")\n",
    "\n",
    "\n",
    "\n",
    "times = np.linspace(0, -0.5, 400)"
   ],
   "id": "34c16a62b66aff3c",
   "outputs": [],
   "execution_count": 2
  },
  {
   "metadata": {
    "ExecuteTime": {
     "end_time": "2025-07-03T13:20:22.865459Z",
     "start_time": "2025-07-03T13:20:22.863265Z"
    }
   },
   "cell_type": "code",
   "source": [
    "# time = 0.\n",
    "# target_time = -0.3\n",
    "# solver_settings = cbvf.SolverSettings.with_accuracy(\"cbvf\",\n",
    "#                                                   hamiltonian_postprocessor=cbvf.solver.identity,\n",
    "#                                                   gamma=5)\n",
    "# target_values_vi = cbvf.step_cbvf(solver_settings, dynamics, grid, time, values_vi, target_time, initial_values)\n",
    "# solver_settings = cbvf.SolverSettings.with_accuracy(\"very_high\",\n",
    "#                                                   hamiltonian_postprocessor=cbvf.solver.backwards_reachable_tube)\n",
    "# target_values = cbvf.step(solver_settings, dynamics, grid, time, values, target_time)"
   ],
   "id": "da228b05e1e6f981",
   "outputs": [],
   "execution_count": 3
  },
  {
   "metadata": {
    "ExecuteTime": {
     "end_time": "2025-07-03T13:20:36.608496Z",
     "start_time": "2025-07-03T13:20:22.880350Z"
    }
   },
   "cell_type": "code",
   "source": [
    "solver_settings = cbvf.SolverSettings.with_accuracy(\"cbvf\",\n",
    "                                                  hamiltonian_postprocessor=cbvf.solver.identity,\n",
    "                                                  gamma=0.1)\n",
    "target_values_vi = cbvf.solve_cbvf(solver_settings, dynamics, grid, times, values, initial_values)\n",
    "# solver_settings = cbvf.SolverSettings.with_accuracy(\n",
    "#     \"very_high\",\n",
    "#     hamiltonian_postprocessor=cbvf.solver.backwards_reachable_tube,\n",
    "# )\n",
    "# target_values = cbvf.solve(solver_settings, dynamics, grid, times, initial_values)"
   ],
   "id": "a16f2b7e860f22bd",
   "outputs": [
    {
     "name": "stderr",
     "output_type": "stream",
     "text": [
      "100%|##########|  0.5000/0.5 [00:10<00:00, 21.95s/sim_s]\n"
     ]
    }
   ],
   "execution_count": 4
  },
  {
   "metadata": {
    "ExecuteTime": {
     "end_time": "2025-07-03T13:20:36.892036Z",
     "start_time": "2025-07-03T13:20:36.821178Z"
    }
   },
   "cell_type": "code",
   "source": "safe_controller = CBVFQPController(value_fn=CBVFInterpolator(grid, -target_values_vi, times, gamma=0.0), gamma=0.0, verbose=True)",
   "id": "72a4a44107d47258",
   "outputs": [],
   "execution_count": 5
  },
  {
   "metadata": {},
   "cell_type": "code",
   "source": [
    "# Simulation parameters\n",
    "initial_state = jnp.array([-10 * (jnp.pi/180), -4 * (jnp.pi/180)])  # Initial state [yaw_rate, sideslip] in radians\n",
    "sim_time = 0.01  # Total simulation time in seconds\n",
    "dt = 0.001  # Time step for integration\n",
    "u_ref_value = -15000  # Reference control (constant positive yaw moment)\n",
    "\n",
    "# Initialize storage for trajectory\n",
    "time_sim = np.arange(0, sim_time, dt)\n",
    "trajectory = np.zeros((len(time_sim), 2))\n",
    "controls = np.zeros(len(time_sim))\n",
    "cbvf_values = np.zeros(len(time_sim))\n",
    "\n",
    "# Set initial state\n",
    "current_state = initial_state\n",
    "trajectory[0] = current_state\n",
    "\n",
    "# Simulation loop\n",
    "for i, t in enumerate(time_sim[:-1]):\n",
    "    # Compute reference control (constant max positive input)\n",
    "    u_ref = jnp.array([u_ref_value])\n",
    "\n",
    "    # Compute safe control using CBVF-QP\n",
    "    u_safe = safe_controller.compute_safe_control(\n",
    "        state=current_state,\n",
    "        time=t,\n",
    "        u_ref=u_ref,\n",
    "        dynamics=dynamics\n",
    "    )\n",
    "\n",
    "    # Store control\n",
    "    controls[i] = u_safe[0]\n",
    "\n",
    "    # Get CBVF value at current state\n",
    "    cbvf_val, _, _ = safe_controller.cbvf.get_value_and_gradients(current_state, t)\n",
    "    cbvf_values[i] = cbvf_val\n",
    "\n",
    "    # Integrate dynamics forward (simple Euler integration)\n",
    "    state_dot = dynamics(current_state, u_safe, jnp.array([0.0]), t)\n",
    "    current_state = current_state + dt * state_dot\n",
    "\n",
    "    # Store next state\n",
    "    if i < len(time_sim) - 1:\n",
    "        trajectory[i + 1] = current_state\n",
    "\n",
    "# Convert trajectory to degrees for visualization\n",
    "trajectory_deg = trajectory * 180 / jnp.pi\n",
    "\n",
    "\n",
    "print(f\"Simulation completed. Final state: yaw_rate={trajectory_deg[-1, 0]:.2f} deg/s, sideslip={trajectory_deg[-1, 1]:.2f} deg\")\n",
    "print(f\"Max CBVF value during trajectory: {np.max(cbvf_values):.4f}\")"
   ],
   "id": "7a2ff138e382e7f",
   "outputs": [],
   "execution_count": null
  },
  {
   "metadata": {},
   "cell_type": "code",
   "source": [
    "# Plot results\n",
    "fig, axes = plt.subplots(3, 1, figsize=(10, 8))\n",
    "\n",
    "# State trajectory\n",
    "axes[0].plot(time_sim, trajectory_deg[:, 0], label='Yaw rate (deg/s)')\n",
    "axes[0].plot(time_sim, trajectory_deg[:, 1], label='Sideslip angle (deg)')\n",
    "axes[0].set_ylabel('States')\n",
    "axes[0].legend()\n",
    "axes[0].grid(True)\n",
    "\n",
    "# Control input\n",
    "axes[1].plot(time_sim, controls, 'r-', label='Safe control')\n",
    "axes[1].axhline(y=u_ref_value, color='k', linestyle='--', label='Reference')\n",
    "axes[1].axhline(y=dynamics.car_params['Mz'], color='g', linestyle=':', label='Control bounds')\n",
    "axes[1].axhline(y=-dynamics.car_params['Mz'], color='g', linestyle=':')\n",
    "axes[1].set_ylabel('Control (Nm)')\n",
    "axes[1].legend()\n",
    "axes[1].grid(True)\n",
    "\n",
    "# CBVF value\n",
    "axes[2].plot(time_sim, cbvf_values, 'b-')\n",
    "axes[2].axhline(y=0, color='r', linestyle='--', label='Safety boundary')\n",
    "axes[2].set_xlabel('Time (s)')\n",
    "axes[2].set_ylabel('CBVF value')\n",
    "axes[2].legend()\n",
    "axes[2].grid(True)\n",
    "\n",
    "plt.tight_layout()\n",
    "plt.show()\n",
    "\n",
    "# Phase portrait\n",
    "plt.figure(figsize=(8, 8))\n",
    "plt.plot(trajectory_deg[:, 0], trajectory_deg[:, 1], 'b-', linewidth=2)\n",
    "plt.scatter(trajectory_deg[0, 0], trajectory_deg[0, 1], color='g', s=100, marker='o', label='Start')\n",
    "plt.scatter(trajectory_deg[-1, 0], trajectory_deg[-1, 1], color='r', s=100, marker='s', label='End')\n",
    "\n",
    "# Add zero-level set contour if you want to visualize the safe boundary\n",
    "# You would need to evaluate this at the appropriate time slice\n",
    "plt.xlabel('Yaw rate (deg/s)')\n",
    "plt.ylabel('Sideslip angle (deg)')\n",
    "plt.title('Phase Portrait')\n",
    "plt.legend()\n",
    "plt.grid(True)\n",
    "# plt.axis('equal')\n",
    "plt.xlim(-x1_lim * 180 / jnp.pi, x1_lim * 180 / jnp.pi)\n",
    "plt.ylim(-x2_lim * 180 / jnp.pi, x2_lim * 180 / jnp.pi)\n",
    "plt.contour(grid.coordinate_vectors[0] * 180 / jnp.pi,\n",
    "            grid.coordinate_vectors[1] * 180 / jnp.pi,\n",
    "            target_values_vi[399, :, :].T,\n",
    "            levels=0,\n",
    "            colors=\"black\",\n",
    "            linewidths=3)\n",
    "plt.show()"
   ],
   "id": "c79e37c5011ecc40",
   "outputs": [],
   "execution_count": null
  },
  {
   "metadata": {},
   "cell_type": "code",
   "source": "plot_time_index = len(times) // 2",
   "id": "e6e7e3f0e3306d08",
   "outputs": [],
   "execution_count": null
  },
  {
   "metadata": {},
   "cell_type": "code",
   "source": [
    "plt.jet()\n",
    "plt.figure(figsize=(13, 8))\n",
    "plt.contourf(grid.coordinate_vectors[0], grid.coordinate_vectors[1], target_values[:, :].T)\n",
    "plt.colorbar()\n",
    "plt.contour(grid.coordinate_vectors[0],\n",
    "            grid.coordinate_vectors[1],\n",
    "            target_values[:, :].T,\n",
    "            levels=0,\n",
    "            colors=\"black\",\n",
    "            linewidths=3)"
   ],
   "id": "d96429c1dc4bd65f",
   "outputs": [],
   "execution_count": null
  },
  {
   "metadata": {},
   "cell_type": "code",
   "source": [
    "plt.jet()\n",
    "plt.figure(figsize=(13, 8))\n",
    "plt.contourf(grid.coordinate_vectors[0] * 180 / jnp.pi, grid.coordinate_vectors[1] * 180 / jnp.pi, target_values_vi[399, :, :].T)\n",
    "plt.colorbar()\n",
    "plt.contour(grid.coordinate_vectors[0] * 180 / jnp.pi,\n",
    "            grid.coordinate_vectors[1] * 180 / jnp.pi,\n",
    "            target_values_vi[399, :, :].T,\n",
    "            levels=0,\n",
    "            colors=\"black\",\n",
    "            linewidths=3)"
   ],
   "id": "dc62850b38d0d846",
   "outputs": [],
   "execution_count": null
  },
  {
   "metadata": {},
   "cell_type": "code",
   "source": [
    "f = go.Figure(data=go.Surface(z=target_values[:, :].T,\n",
    "                                         x=grid.coordinate_vectors[0],\n",
    "                                         y=grid.coordinate_vectors[1],\n",
    "                                         colorscale=\"Jet\",\n",
    "                                         contours={\n",
    "                                             \"z\": {\n",
    "                                                 \"show\": True,\n",
    "                                                 \"start\": 0.00,\n",
    "                                                 \"end\": 0.00,\n",
    "                                                 \"size\": 1\n",
    "                                             }\n",
    "                                         }))\n",
    "f.update_layout(title=\"Reachable Set for MzNonlinearCar (norm)\",\n",
    "                  scene=dict(xaxis_title=\"x1\",\n",
    "                             yaxis_title=\"x2\",\n",
    "                             zaxis_title=\"value\"),\n",
    "                  width=800,\n",
    "                  height=800,\n",
    "                  xaxis=dict(range=[-x1_lim, x1_lim]),\n",
    "                  yaxis=dict(range=[-x2_lim, x2_lim]),\n",
    "                  scene_aspectmode='cube')\n",
    "f.show()"
   ],
   "id": "9792695784417901",
   "outputs": [],
   "execution_count": null
  },
  {
   "metadata": {},
   "cell_type": "code",
   "source": [
    "f = go.Figure(data=go.Surface(z=-target_values_vi[-1, :, :].T,\n",
    "                                         x=grid.coordinate_vectors[0],\n",
    "                                         y=grid.coordinate_vectors[1],\n",
    "                                         colorscale=\"Jet\",\n",
    "                                         contours={\n",
    "                                             \"z\": {\n",
    "                                                 \"show\": True,\n",
    "                                                 \"start\": 0.00,\n",
    "                                                 \"end\": 0.00,\n",
    "                                                 \"size\": 1\n",
    "                                             }\n",
    "                                         }))\n",
    "f.update_layout(title=\"Reachable Set for MzNonlinearCar (Alt)\",\n",
    "                  scene=dict(xaxis_title=\"x1\",\n",
    "                             yaxis_title=\"x2\",\n",
    "                             zaxis_title=\"value\"),\n",
    "                  width=800,\n",
    "                  height=800,\n",
    "                  xaxis=dict(range=[-x1_lim, x1_lim]),\n",
    "                  yaxis=dict(range=[-x2_lim, x2_lim]),\n",
    "                  scene_aspectmode='cube')\n",
    "f.show()"
   ],
   "id": "992eb27a5c74213b",
   "outputs": [],
   "execution_count": null
  },
  {
   "metadata": {},
   "cell_type": "code",
   "source": [
    "f = go.Figure(data=go.Surface(z=target_values_vi[:, :].T - target_values[:, :].T,\n",
    "                                         x=grid.coordinate_vectors[0],\n",
    "                                         y=grid.coordinate_vectors[1],\n",
    "                                         colorscale=\"Jet\",\n",
    "                                         contours={\n",
    "                                             \"z\": {\n",
    "                                                 \"show\": True,\n",
    "                                                 \"start\": 0.00,\n",
    "                                                 \"end\": 0.00,\n",
    "                                                 \"size\": 1\n",
    "                                             }\n",
    "                                         }))\n",
    "f.update_layout(title=\"Difference in sets\",\n",
    "                  scene=dict(xaxis_title=\"x1\",\n",
    "                             yaxis_title=\"x2\",\n",
    "                             zaxis_title=\"value\"),\n",
    "                  width=800,\n",
    "                  height=800,\n",
    "                  xaxis=dict(range=[-x1_lim, x1_lim]),\n",
    "                  yaxis=dict(range=[-x2_lim, x2_lim]),\n",
    "                  scene_aspectmode='cube')\n",
    "f.show()"
   ],
   "id": "9803deb59757a62b",
   "outputs": [],
   "execution_count": null
  }
 ],
 "metadata": {
  "kernelspec": {
   "display_name": "Python 3",
   "language": "python",
   "name": "python3"
  },
  "language_info": {
   "codemirror_mode": {
    "name": "ipython",
    "version": 2
   },
   "file_extension": ".py",
   "mimetype": "text/x-python",
   "name": "python",
   "nbconvert_exporter": "python",
   "pygments_lexer": "ipython2",
   "version": "2.7.6"
  }
 },
 "nbformat": 4,
 "nbformat_minor": 5
}
