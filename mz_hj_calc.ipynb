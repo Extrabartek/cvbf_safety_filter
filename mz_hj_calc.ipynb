{
 "cells": [
  {
   "cell_type": "code",
   "id": "initial_id",
   "metadata": {
    "collapsed": true,
    "ExecuteTime": {
     "end_time": "2025-07-02T12:23:10.275405Z",
     "start_time": "2025-07-02T12:23:09.221697Z"
    }
   },
   "source": [
    "import os\n",
    "os.environ['TF_GPU_ALLOCATOR'] = 'cuda_malloc_async'\n",
    "\n",
    "# from jax import config\n",
    "# config.update(\"jax_enable_x64\", True)\n",
    "\n",
    "import jax.numpy as jnp\n",
    "import numpy as np\n",
    "import plotly.io as pio\n",
    "pio.renderers.default = \"browser\"\n",
    "\n",
    "import matplotlib.pyplot as plt\n",
    "import plotly.graph_objects as go\n",
    "\n",
    "import cbvf_reachability as cbvf\n",
    "\n",
    "from dyn_sys.MzNonlinearCar import MzNonlinearCar\n",
    "from controllers.CBVF_QP import CBVFQPController\n",
    "from controllers.CBVFInterpolator import CBVFInterpolator\n"
   ],
   "outputs": [],
   "execution_count": 1
  },
  {
   "metadata": {
    "ExecuteTime": {
     "end_time": "2025-07-02T12:23:10.949152Z",
     "start_time": "2025-07-02T12:23:10.348871Z"
    }
   },
   "cell_type": "code",
   "source": [
    "dynamics = MzNonlinearCar()\n",
    "\n",
    "# limits of the grid in degrees\n",
    "x1_lim = 150\n",
    "x2_lim = 60\n",
    "\n",
    "x1_lim = x1_lim * jnp.pi / 180\n",
    "x2_lim = x2_lim * jnp.pi / 180\n",
    "\n",
    "grid = cbvf.Grid.from_lattice_parameters_and_boundary_conditions(cbvf.sets.Box(np.array([-x1_lim, -x2_lim]),\n",
    "                                                                           np.array([x1_lim, x2_lim])),\n",
    "                                                                           (500, 500))\n",
    "values_vi = jnp.linalg.norm(grid.states[..., :2], axis=-1) - 5 * jnp.pi / 180  # radius in radians\n",
    "values = jnp.linalg.norm(grid.states[..., :2], axis=-1) - 5 * jnp.pi / 180  # radius in radians\n",
    "initial_values = values_vi.copy()\n",
    "\n",
    "solver_settings = cbvf.SolverSettings.with_accuracy(\n",
    "    \"very_high\",\n",
    "    hamiltonian_postprocessor=cbvf.solver.identity,\n",
    ")\n",
    "\n",
    "\n",
    "\n",
    "times = np.linspace(0, -0.5, 500)"
   ],
   "id": "34c16a62b66aff3c",
   "outputs": [],
   "execution_count": 2
  },
  {
   "metadata": {
    "ExecuteTime": {
     "end_time": "2025-07-02T12:23:11.042520Z",
     "start_time": "2025-07-02T12:23:11.040272Z"
    }
   },
   "cell_type": "code",
   "source": [
    "# time = 0.\n",
    "# target_time = -0.3\n",
    "# solver_settings = cbvf.SolverSettings.with_accuracy(\"cbvf\",\n",
    "#                                                   hamiltonian_postprocessor=cbvf.solver.identity,\n",
    "#                                                   gamma=5)\n",
    "# target_values_vi = cbvf.step_cbvf(solver_settings, dynamics, grid, time, values_vi, target_time, initial_values)\n",
    "# solver_settings = cbvf.SolverSettings.with_accuracy(\"very_high\",\n",
    "#                                                   hamiltonian_postprocessor=cbvf.solver.backwards_reachable_tube)\n",
    "# target_values = cbvf.step(solver_settings, dynamics, grid, time, values, target_time)"
   ],
   "id": "da228b05e1e6f981",
   "outputs": [],
   "execution_count": 3
  },
  {
   "metadata": {
    "ExecuteTime": {
     "end_time": "2025-07-02T12:23:39.441942Z",
     "start_time": "2025-07-02T12:23:11.062957Z"
    }
   },
   "cell_type": "code",
   "source": [
    "solver_settings = cbvf.SolverSettings.with_accuracy(\"cbvf\",\n",
    "                                                  hamiltonian_postprocessor=cbvf.solver.identity,\n",
    "                                                  gamma=5)\n",
    "target_values_vi = cbvf.solve_cbvf(solver_settings, dynamics, grid, times, values, initial_values)\n",
    "solver_settings = cbvf.SolverSettings.with_accuracy(\n",
    "    \"very_high\",\n",
    "    hamiltonian_postprocessor=cbvf.solver.backwards_reachable_tube,\n",
    ")\n",
    "target_values = cbvf.solve(solver_settings, dynamics, grid, times, initial_values)"
   ],
   "id": "a16f2b7e860f22bd",
   "outputs": [
    {
     "name": "stderr",
     "output_type": "stream",
     "text": [
      "100%|##########|  0.5000/0.5 [00:11<00:00, 22.35s/sim_s]\n",
      "100%|##########|  0.5000/0.5 [00:12<00:00, 24.31s/sim_s]\n"
     ]
    }
   ],
   "execution_count": 4
  },
  {
   "metadata": {
    "ExecuteTime": {
     "end_time": "2025-07-02T12:30:40.044007Z",
     "start_time": "2025-07-02T12:30:40.006167Z"
    }
   },
   "cell_type": "code",
   "source": "safe_controller = CBVFQPController(value_fn=CBVFInterpolator(grid, -target_values_vi, times, gamma=5), gamma=5, verbose=True)",
   "id": "72a4a44107d47258",
   "outputs": [],
   "execution_count": 16
  },
  {
   "metadata": {
    "ExecuteTime": {
     "end_time": "2025-07-02T12:52:54.299100Z",
     "start_time": "2025-07-02T12:52:54.271865Z"
    }
   },
   "cell_type": "code",
   "source": "print(safe_controller.compute_safe_control(state=jnp.array([2, 2]), time=0.2, u_ref=jnp.array([400]), dynamics=dynamics))",
   "id": "a0b5cd8eaa55f07f",
   "outputs": [
    {
     "name": "stdout",
     "output_type": "stream",
     "text": [
      "-----------------------------------------------------------------\n",
      "           OSQP v1.0.0  -  Operator Splitting QP Solver\n",
      "              (c) The OSQP Developer Team\n",
      "-----------------------------------------------------------------\n",
      "problem:  variables n = 1, constraints m = 3\n",
      "          nnz(P) + nnz(A) = 4\n",
      "settings: algebra = Built-in,\n",
      "          OSQPInt = 4 bytes, OSQPFloat = 8 bytes,\n",
      "          linear system solver = QDLDL v0.1.8,\n",
      "          eps_abs = 1.0e-03, eps_rel = 1.0e-03,\n",
      "          eps_prim_inf = 1.0e-04, eps_dual_inf = 1.0e-04,\n",
      "          rho = 1.00e-01 (adaptive: 50 iterations),\n",
      "          sigma = 1.00e-06, alpha = 1.60, max_iter = 4000\n",
      "          check_termination: on (interval 25, duality gap: on),\n",
      "          time_limit: 1.00e+10 sec,\n",
      "          scaling: on (10 iterations), scaled_termination: off\n",
      "          warm starting: on, polishing: off, \n",
      "iter   objective    prim res   dual res   gap        rel kkt    rho         time\n",
      "   1  -3.0608e+02   1.25e-14   7.99e+02  -3.06e+02   7.99e+02   1.00e-01    7.82e-05s\n",
      "  50  -1.4608e+04   7.97e-13   7.63e+02  -1.43e+04   7.63e+02   1.00e-06*   3.80e-04s\n",
      " 100  -1.5818e+05   1.45e+04   1.38e-02  -6.29e+03   1.45e+04   1.09e-04*   4.56e-04s\n",
      " 125  -1.4643e+05   2.22e-03   3.91e-05   8.44e-03   8.44e-03   1.09e-04    5.23e-04s\n",
      "\n",
      "status:               solved\n",
      "number of iterations: 125\n",
      "optimal objective:    -146432.2650\n",
      "dual objective:       -146432.2735\n",
      "duality gap:          8.4438e-03\n",
      "primal-dual integral: 3.2687e+04\n",
      "run time:             5.88e-04s\n",
      "optimal rho estimate: 9.87e-05\n",
      "\n",
      "[283.51938]\n"
     ]
    }
   ],
   "execution_count": 34
  },
  {
   "metadata": {},
   "cell_type": "code",
   "source": "plot_time_index = len(times) // 2",
   "id": "e6e7e3f0e3306d08",
   "outputs": [],
   "execution_count": null
  },
  {
   "metadata": {},
   "cell_type": "code",
   "source": [
    "plt.jet()\n",
    "plt.figure(figsize=(13, 8))\n",
    "plt.contourf(grid.coordinate_vectors[0], grid.coordinate_vectors[1], target_values[:, :].T)\n",
    "plt.colorbar()\n",
    "plt.contour(grid.coordinate_vectors[0],\n",
    "            grid.coordinate_vectors[1],\n",
    "            target_values[:, :].T,\n",
    "            levels=0,\n",
    "            colors=\"black\",\n",
    "            linewidths=3)"
   ],
   "id": "d96429c1dc4bd65f",
   "outputs": [],
   "execution_count": null
  },
  {
   "metadata": {},
   "cell_type": "code",
   "source": [
    "plt.jet()\n",
    "plt.figure(figsize=(13, 8))\n",
    "plt.contourf(grid.coordinate_vectors[0], grid.coordinate_vectors[1], target_values_vi[:, :].T)\n",
    "plt.colorbar()\n",
    "plt.contour(grid.coordinate_vectors[0],\n",
    "            grid.coordinate_vectors[1],\n",
    "            target_values_vi[:, :].T,\n",
    "            levels=0,\n",
    "            colors=\"black\",\n",
    "            linewidths=3)"
   ],
   "id": "dc62850b38d0d846",
   "outputs": [],
   "execution_count": null
  },
  {
   "metadata": {},
   "cell_type": "code",
   "source": [
    "f = go.Figure(data=go.Surface(z=target_values[:, :].T,\n",
    "                                         x=grid.coordinate_vectors[0],\n",
    "                                         y=grid.coordinate_vectors[1],\n",
    "                                         colorscale=\"Jet\",\n",
    "                                         contours={\n",
    "                                             \"z\": {\n",
    "                                                 \"show\": True,\n",
    "                                                 \"start\": 0.00,\n",
    "                                                 \"end\": 0.00,\n",
    "                                                 \"size\": 1\n",
    "                                             }\n",
    "                                         }))\n",
    "f.update_layout(title=\"Reachable Set for MzNonlinearCar (norm)\",\n",
    "                  scene=dict(xaxis_title=\"x1\",\n",
    "                             yaxis_title=\"x2\",\n",
    "                             zaxis_title=\"value\"),\n",
    "                  width=800,\n",
    "                  height=800,\n",
    "                  xaxis=dict(range=[-x1_lim, x1_lim]),\n",
    "                  yaxis=dict(range=[-x2_lim, x2_lim]),\n",
    "                  scene_aspectmode='cube')\n",
    "f.show()"
   ],
   "id": "9792695784417901",
   "outputs": [],
   "execution_count": null
  },
  {
   "metadata": {},
   "cell_type": "code",
   "source": [
    "f = go.Figure(data=go.Surface(z=target_values_vi[:, :].T,\n",
    "                                         x=grid.coordinate_vectors[0],\n",
    "                                         y=grid.coordinate_vectors[1],\n",
    "                                         colorscale=\"Jet\",\n",
    "                                         contours={\n",
    "                                             \"z\": {\n",
    "                                                 \"show\": True,\n",
    "                                                 \"start\": 0.00,\n",
    "                                                 \"end\": 0.00,\n",
    "                                                 \"size\": 1\n",
    "                                             }\n",
    "                                         }))\n",
    "f.update_layout(title=\"Reachable Set for MzNonlinearCar (Alt)\",\n",
    "                  scene=dict(xaxis_title=\"x1\",\n",
    "                             yaxis_title=\"x2\",\n",
    "                             zaxis_title=\"value\"),\n",
    "                  width=800,\n",
    "                  height=800,\n",
    "                  xaxis=dict(range=[-x1_lim, x1_lim]),\n",
    "                  yaxis=dict(range=[-x2_lim, x2_lim]),\n",
    "                  scene_aspectmode='cube')\n",
    "f.show()"
   ],
   "id": "992eb27a5c74213b",
   "outputs": [],
   "execution_count": null
  },
  {
   "metadata": {},
   "cell_type": "code",
   "source": [
    "f = go.Figure(data=go.Surface(z=target_values_vi[:, :].T - target_values[:, :].T,\n",
    "                                         x=grid.coordinate_vectors[0],\n",
    "                                         y=grid.coordinate_vectors[1],\n",
    "                                         colorscale=\"Jet\",\n",
    "                                         contours={\n",
    "                                             \"z\": {\n",
    "                                                 \"show\": True,\n",
    "                                                 \"start\": 0.00,\n",
    "                                                 \"end\": 0.00,\n",
    "                                                 \"size\": 1\n",
    "                                             }\n",
    "                                         }))\n",
    "f.update_layout(title=\"Difference in sets\",\n",
    "                  scene=dict(xaxis_title=\"x1\",\n",
    "                             yaxis_title=\"x2\",\n",
    "                             zaxis_title=\"value\"),\n",
    "                  width=800,\n",
    "                  height=800,\n",
    "                  xaxis=dict(range=[-x1_lim, x1_lim]),\n",
    "                  yaxis=dict(range=[-x2_lim, x2_lim]),\n",
    "                  scene_aspectmode='cube')\n",
    "f.show()"
   ],
   "id": "9803deb59757a62b",
   "outputs": [],
   "execution_count": null
  }
 ],
 "metadata": {
  "kernelspec": {
   "display_name": "Python 3",
   "language": "python",
   "name": "python3"
  },
  "language_info": {
   "codemirror_mode": {
    "name": "ipython",
    "version": 2
   },
   "file_extension": ".py",
   "mimetype": "text/x-python",
   "name": "python",
   "nbconvert_exporter": "python",
   "pygments_lexer": "ipython2",
   "version": "2.7.6"
  }
 },
 "nbformat": 4,
 "nbformat_minor": 5
}
