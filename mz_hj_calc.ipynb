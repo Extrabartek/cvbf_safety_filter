{
 "cells": [
  {
   "cell_type": "code",
   "id": "initial_id",
   "metadata": {
    "collapsed": true,
    "ExecuteTime": {
     "end_time": "2025-07-02T12:15:49.743214Z",
     "start_time": "2025-07-02T12:15:48.737076Z"
    }
   },
   "source": [
    "import os\n",
    "os.environ['TF_GPU_ALLOCATOR'] = 'cuda_malloc_async'\n",
    "\n",
    "# from jax import config\n",
    "# config.update(\"jax_enable_x64\", True)\n",
    "\n",
    "import jax.numpy as jnp\n",
    "import numpy as np\n",
    "import plotly.io as pio\n",
    "pio.renderers.default = \"browser\"\n",
    "\n",
    "import matplotlib.pyplot as plt\n",
    "import plotly.graph_objects as go\n",
    "\n",
    "import cbvf_reachability as cbvf\n",
    "\n",
    "from dyn_sys.MzNonlinearCar import MzNonlinearCar\n",
    "from controllers.CBVF_QP import CBVFQPController\n",
    "from controllers.CBVFInterpolator import CBVFInterpolator\n"
   ],
   "outputs": [],
   "execution_count": 1
  },
  {
   "metadata": {
    "ExecuteTime": {
     "end_time": "2025-07-02T12:15:50.418048Z",
     "start_time": "2025-07-02T12:15:49.817419Z"
    }
   },
   "cell_type": "code",
   "source": [
    "dynamics = MzNonlinearCar()\n",
    "\n",
    "# limits of the grid in degrees\n",
    "x1_lim = 150\n",
    "x2_lim = 60\n",
    "\n",
    "x1_lim = x1_lim * jnp.pi / 180\n",
    "x2_lim = x2_lim * jnp.pi / 180\n",
    "\n",
    "grid = cbvf.Grid.from_lattice_parameters_and_boundary_conditions(cbvf.sets.Box(np.array([-x1_lim, -x2_lim]),\n",
    "                                                                           np.array([x1_lim, x2_lim])),\n",
    "                                                                           (500, 500))\n",
    "values_vi = jnp.linalg.norm(grid.states[..., :2], axis=-1) - 5 * jnp.pi / 180  # radius in radians\n",
    "values = jnp.linalg.norm(grid.states[..., :2], axis=-1) - 5 * jnp.pi / 180  # radius in radians\n",
    "initial_values = values_vi.copy()\n",
    "\n",
    "solver_settings = cbvf.SolverSettings.with_accuracy(\n",
    "    \"very_high\",\n",
    "    hamiltonian_postprocessor=cbvf.solver.identity,\n",
    ")\n",
    "\n",
    "\n",
    "\n",
    "times = np.linspace(0, -0.5, 500)"
   ],
   "id": "34c16a62b66aff3c",
   "outputs": [],
   "execution_count": 2
  },
  {
   "metadata": {
    "ExecuteTime": {
     "end_time": "2025-07-02T12:15:50.510794Z",
     "start_time": "2025-07-02T12:15:50.508768Z"
    }
   },
   "cell_type": "code",
   "source": [
    "# time = 0.\n",
    "# target_time = -0.3\n",
    "# solver_settings = cbvf.SolverSettings.with_accuracy(\"cbvf\",\n",
    "#                                                   hamiltonian_postprocessor=cbvf.solver.identity,\n",
    "#                                                   gamma=5)\n",
    "# target_values_vi = cbvf.step_cbvf(solver_settings, dynamics, grid, time, values_vi, target_time, initial_values)\n",
    "# solver_settings = cbvf.SolverSettings.with_accuracy(\"very_high\",\n",
    "#                                                   hamiltonian_postprocessor=cbvf.solver.backwards_reachable_tube)\n",
    "# target_values = cbvf.step(solver_settings, dynamics, grid, time, values, target_time)"
   ],
   "id": "da228b05e1e6f981",
   "outputs": [],
   "execution_count": 3
  },
  {
   "metadata": {
    "ExecuteTime": {
     "end_time": "2025-07-02T12:16:18.853081Z",
     "start_time": "2025-07-02T12:15:50.527780Z"
    }
   },
   "cell_type": "code",
   "source": [
    "solver_settings = cbvf.SolverSettings.with_accuracy(\"cbvf\",\n",
    "                                                  hamiltonian_postprocessor=cbvf.solver.identity,\n",
    "                                                  gamma=5)\n",
    "target_values_vi = cbvf.solve_cbvf(solver_settings, dynamics, grid, times, values, initial_values)\n",
    "solver_settings = cbvf.SolverSettings.with_accuracy(\n",
    "    \"very_high\",\n",
    "    hamiltonian_postprocessor=cbvf.solver.backwards_reachable_tube,\n",
    ")\n",
    "target_values = cbvf.solve(solver_settings, dynamics, grid, times, initial_values)"
   ],
   "id": "a16f2b7e860f22bd",
   "outputs": [
    {
     "name": "stderr",
     "output_type": "stream",
     "text": [
      "100%|##########|  0.5000/0.5 [00:11<00:00, 22.39s/sim_s]\n",
      "100%|##########|  0.5000/0.5 [00:12<00:00, 24.34s/sim_s]\n"
     ]
    }
   ],
   "execution_count": 4
  },
  {
   "metadata": {
    "ExecuteTime": {
     "end_time": "2025-07-02T12:16:19.340976Z",
     "start_time": "2025-07-02T12:16:19.338392Z"
    }
   },
   "cell_type": "code",
   "source": "safe_controller = CBVFQPController(value_fn=CBVFInterpolator(grid, target_values_vi, times, gamma=5), gamma=5, verbose=True)",
   "id": "72a4a44107d47258",
   "outputs": [],
   "execution_count": 5
  },
  {
   "metadata": {
    "ExecuteTime": {
     "end_time": "2025-07-02T12:16:28.396543Z",
     "start_time": "2025-07-02T12:16:28.002997Z"
    }
   },
   "cell_type": "code",
   "source": "print(safe_controller.compute_safe_control(state=jnp.array([2, 2]), time=0.0, u_ref=jnp.array([10e6]), dynamics=dynamics))",
   "id": "a0b5cd8eaa55f07f",
   "outputs": [
    {
     "ename": "TypeError",
     "evalue": "Error interpreting argument to <function CBVFInterpolator.interpolate_value at 0x7f264c0b6020> as an abstract array. The problematic value is of type <class 'controllers.CBVFInterpolator.CBVFInterpolator'> and was passed to the function at path self.\nThis typically means that a jit-wrapped function was called with a non-array argument, and this argument was not marked as static using the static_argnums or static_argnames parameters of jax.jit.",
     "output_type": "error",
     "traceback": [
      "\u001B[31m---------------------------------------------------------------------------\u001B[39m",
      "\u001B[31mTypeError\u001B[39m                                 Traceback (most recent call last)",
      "\u001B[36mCell\u001B[39m\u001B[36m \u001B[39m\u001B[32mIn[6]\u001B[39m\u001B[32m, line 1\u001B[39m\n\u001B[32m----> \u001B[39m\u001B[32m1\u001B[39m \u001B[38;5;28mprint\u001B[39m(\u001B[43msafe_controller\u001B[49m\u001B[43m.\u001B[49m\u001B[43mcompute_safe_control\u001B[49m\u001B[43m(\u001B[49m\u001B[43mstate\u001B[49m\u001B[43m=\u001B[49m\u001B[43mjnp\u001B[49m\u001B[43m.\u001B[49m\u001B[43marray\u001B[49m\u001B[43m(\u001B[49m\u001B[43m[\u001B[49m\u001B[32;43m2\u001B[39;49m\u001B[43m,\u001B[49m\u001B[43m \u001B[49m\u001B[32;43m2\u001B[39;49m\u001B[43m]\u001B[49m\u001B[43m)\u001B[49m\u001B[43m,\u001B[49m\u001B[43m \u001B[49m\u001B[43mtime\u001B[49m\u001B[43m=\u001B[49m\u001B[32;43m0.0\u001B[39;49m\u001B[43m,\u001B[49m\u001B[43m \u001B[49m\u001B[43mu_ref\u001B[49m\u001B[43m=\u001B[49m\u001B[43mjnp\u001B[49m\u001B[43m.\u001B[49m\u001B[43marray\u001B[49m\u001B[43m(\u001B[49m\u001B[43m[\u001B[49m\u001B[32;43m10e6\u001B[39;49m\u001B[43m]\u001B[49m\u001B[43m)\u001B[49m\u001B[43m,\u001B[49m\u001B[43m \u001B[49m\u001B[43mdynamics\u001B[49m\u001B[43m=\u001B[49m\u001B[43mdynamics\u001B[49m\u001B[43m)\u001B[49m)\n",
      "\u001B[36mFile \u001B[39m\u001B[32m~/Documents/master_thesis/code_base/CVBF_testing/controllers/CBVF_QP.py:62\u001B[39m, in \u001B[36mCBVFQPController.compute_safe_control\u001B[39m\u001B[34m(self, state, time, u_ref, dynamics)\u001B[39m\n\u001B[32m     41\u001B[39m \u001B[38;5;28;01mdef\u001B[39;00m\u001B[38;5;250m \u001B[39m\u001B[34mcompute_safe_control\u001B[39m(\u001B[38;5;28mself\u001B[39m,\n\u001B[32m     42\u001B[39m                          state: jnp.ndarray,\n\u001B[32m     43\u001B[39m                          time: \u001B[38;5;28mfloat\u001B[39m,\n\u001B[32m     44\u001B[39m                          u_ref: jnp.ndarray,\n\u001B[32m     45\u001B[39m                          dynamics) -> jnp.ndarray:\n\u001B[32m     46\u001B[39m \u001B[38;5;250m    \u001B[39m\u001B[33;03m\"\"\"\u001B[39;00m\n\u001B[32m     47\u001B[39m \u001B[33;03m    Compute safe control using CBVF-QP formulation\u001B[39;00m\n\u001B[32m     48\u001B[39m \n\u001B[32m   (...)\u001B[39m\u001B[32m     59\u001B[39m \u001B[33;03m        Safe control input u_safe (jnp.ndarray)\u001B[39;00m\n\u001B[32m     60\u001B[39m \u001B[33;03m    \"\"\"\u001B[39;00m\n\u001B[32m---> \u001B[39m\u001B[32m62\u001B[39m     cbvf_value, cbvf_grad_x, cbvf_grad_t = \u001B[38;5;28;43mself\u001B[39;49m\u001B[43m.\u001B[49m\u001B[43mcbvf\u001B[49m\u001B[43m.\u001B[49m\u001B[43mget_value_and_gradients\u001B[49m\u001B[43m(\u001B[49m\u001B[43mstate\u001B[49m\u001B[43m,\u001B[49m\u001B[43m \u001B[49m\u001B[43mtime\u001B[49m\u001B[43m)\u001B[49m\n\u001B[32m     64\u001B[39m     \u001B[38;5;66;03m# Get system matrices using existing dynamics interface\u001B[39;00m\n\u001B[32m     65\u001B[39m     p_x = dynamics.open_loop_dynamics(state, time)\n",
      "\u001B[36mFile \u001B[39m\u001B[32m~/Documents/master_thesis/code_base/CVBF_testing/controllers/CBVFInterpolator.py:209\u001B[39m, in \u001B[36mCBVFInterpolator.get_value_and_gradients\u001B[39m\u001B[34m(self, state, time, use_upwind, velocity)\u001B[39m\n\u001B[32m    194\u001B[39m \u001B[38;5;28;01mdef\u001B[39;00m\u001B[38;5;250m \u001B[39m\u001B[34mget_value_and_gradients\u001B[39m(\u001B[38;5;28mself\u001B[39m, state: jnp.ndarray, time: \u001B[38;5;28mfloat\u001B[39m,\n\u001B[32m    195\u001B[39m                             use_upwind: \u001B[38;5;28mbool\u001B[39m = \u001B[38;5;28;01mFalse\u001B[39;00m,\n\u001B[32m    196\u001B[39m                             velocity: Optional[jnp.ndarray] = \u001B[38;5;28;01mNone\u001B[39;00m) -> Tuple[\u001B[38;5;28mfloat\u001B[39m, jnp.ndarray, \u001B[38;5;28mfloat\u001B[39m]:\n\u001B[32m    197\u001B[39m \u001B[38;5;250m    \u001B[39m\u001B[33;03m\"\"\"\u001B[39;00m\n\u001B[32m    198\u001B[39m \u001B[33;03m    Get CBVF value and all gradients at once (efficient for CBVF-QP).\u001B[39;00m\n\u001B[32m    199\u001B[39m \n\u001B[32m   (...)\u001B[39m\u001B[32m    207\u001B[39m \u001B[33;03m        Tuple of (cbvf_value, spatial_gradient, time_gradient)\u001B[39;00m\n\u001B[32m    208\u001B[39m \u001B[33;03m    \"\"\"\u001B[39;00m\n\u001B[32m--> \u001B[39m\u001B[32m209\u001B[39m     cbvf_value = \u001B[38;5;28;43mself\u001B[39;49m\u001B[43m.\u001B[49m\u001B[43minterpolate_value\u001B[49m\u001B[43m(\u001B[49m\u001B[43mstate\u001B[49m\u001B[43m,\u001B[49m\u001B[43m \u001B[49m\u001B[43mtime\u001B[49m\u001B[43m)\u001B[49m\n\u001B[32m    210\u001B[39m     spatial_grad = \u001B[38;5;28mself\u001B[39m.interpolate_spatial_gradient(state, time, use_upwind, velocity)\n\u001B[32m    211\u001B[39m     time_grad = \u001B[38;5;28mself\u001B[39m.compute_time_gradient(state, time)\n",
      "    \u001B[31m[... skipping hidden 5 frame]\u001B[39m\n",
      "\u001B[36mFile \u001B[39m\u001B[32m~/Documents/master_thesis/code_base/CVBF_testing/.venv/lib/python3.13/site-packages/jax/_src/pjit.py:731\u001B[39m, in \u001B[36m_infer_input_type\u001B[39m\u001B[34m(fun, dbg, explicit_args)\u001B[39m\n\u001B[32m    729\u001B[39m \u001B[38;5;28;01mexcept\u001B[39;00m \u001B[38;5;167;01mTypeError\u001B[39;00m:\n\u001B[32m    730\u001B[39m   arg_description = \u001B[33mf\u001B[39m\u001B[33m\"\u001B[39m\u001B[33mpath \u001B[39m\u001B[38;5;132;01m{\u001B[39;00mdbg.arg_names[i]\u001B[38;5;132;01m}\u001B[39;00m\u001B[33m\"\u001B[39m  \u001B[38;5;66;03m# pytype: disable=name-error\u001B[39;00m\n\u001B[32m--> \u001B[39m\u001B[32m731\u001B[39m   \u001B[38;5;28;01mraise\u001B[39;00m \u001B[38;5;167;01mTypeError\u001B[39;00m(\n\u001B[32m    732\u001B[39m     \u001B[33mf\u001B[39m\u001B[33m\"\u001B[39m\u001B[33mError interpreting argument to \u001B[39m\u001B[38;5;132;01m{\u001B[39;00mfun\u001B[38;5;132;01m}\u001B[39;00m\u001B[33m as an abstract array.\u001B[39m\u001B[33m\"\u001B[39m\n\u001B[32m    733\u001B[39m     \u001B[33mf\u001B[39m\u001B[33m\"\u001B[39m\u001B[33m The problematic value is of type \u001B[39m\u001B[38;5;132;01m{\u001B[39;00m\u001B[38;5;28mtype\u001B[39m(x)\u001B[38;5;132;01m}\u001B[39;00m\u001B[33m and was passed to\u001B[39m\u001B[33m\"\u001B[39m  \u001B[38;5;66;03m# pytype: disable=name-error\u001B[39;00m\n\u001B[32m    734\u001B[39m     \u001B[33mf\u001B[39m\u001B[33m\"\u001B[39m\u001B[33m the function at \u001B[39m\u001B[38;5;132;01m{\u001B[39;00marg_description\u001B[38;5;132;01m}\u001B[39;00m\u001B[33m.\u001B[39m\u001B[38;5;130;01m\\n\u001B[39;00m\u001B[33m\"\u001B[39m\n\u001B[32m    735\u001B[39m     \u001B[33m\"\u001B[39m\u001B[33mThis typically means that a jit-wrapped function was called with a non-array\u001B[39m\u001B[33m\"\u001B[39m\n\u001B[32m    736\u001B[39m     \u001B[33m\"\u001B[39m\u001B[33m argument, and this argument was not marked as static using the\u001B[39m\u001B[33m\"\u001B[39m\n\u001B[32m    737\u001B[39m     \u001B[33m\"\u001B[39m\u001B[33m static_argnums or static_argnames parameters of jax.jit.\u001B[39m\u001B[33m\"\u001B[39m\n\u001B[32m    738\u001B[39m   ) \u001B[38;5;28;01mfrom\u001B[39;00m\u001B[38;5;250m \u001B[39m\u001B[38;5;28;01mNone\u001B[39;00m\n\u001B[32m    739\u001B[39m \u001B[38;5;28;01mif\u001B[39;00m config.mutable_array_checks.value:\n\u001B[32m    740\u001B[39m   _check_no_aliased_ref_args(dbg, avals, explicit_args)\n",
      "\u001B[31mTypeError\u001B[39m: Error interpreting argument to <function CBVFInterpolator.interpolate_value at 0x7f264c0b6020> as an abstract array. The problematic value is of type <class 'controllers.CBVFInterpolator.CBVFInterpolator'> and was passed to the function at path self.\nThis typically means that a jit-wrapped function was called with a non-array argument, and this argument was not marked as static using the static_argnums or static_argnames parameters of jax.jit."
     ]
    }
   ],
   "execution_count": 6
  },
  {
   "metadata": {},
   "cell_type": "code",
   "source": "plot_time_index = len(times) // 2",
   "id": "e6e7e3f0e3306d08",
   "outputs": [],
   "execution_count": null
  },
  {
   "metadata": {},
   "cell_type": "code",
   "source": [
    "plt.jet()\n",
    "plt.figure(figsize=(13, 8))\n",
    "plt.contourf(grid.coordinate_vectors[0], grid.coordinate_vectors[1], target_values[:, :].T)\n",
    "plt.colorbar()\n",
    "plt.contour(grid.coordinate_vectors[0],\n",
    "            grid.coordinate_vectors[1],\n",
    "            target_values[:, :].T,\n",
    "            levels=0,\n",
    "            colors=\"black\",\n",
    "            linewidths=3)"
   ],
   "id": "d96429c1dc4bd65f",
   "outputs": [],
   "execution_count": null
  },
  {
   "metadata": {},
   "cell_type": "code",
   "source": [
    "plt.jet()\n",
    "plt.figure(figsize=(13, 8))\n",
    "plt.contourf(grid.coordinate_vectors[0], grid.coordinate_vectors[1], target_values_vi[:, :].T)\n",
    "plt.colorbar()\n",
    "plt.contour(grid.coordinate_vectors[0],\n",
    "            grid.coordinate_vectors[1],\n",
    "            target_values_vi[:, :].T,\n",
    "            levels=0,\n",
    "            colors=\"black\",\n",
    "            linewidths=3)"
   ],
   "id": "dc62850b38d0d846",
   "outputs": [],
   "execution_count": null
  },
  {
   "metadata": {},
   "cell_type": "code",
   "source": [
    "f = go.Figure(data=go.Surface(z=target_values[:, :].T,\n",
    "                                         x=grid.coordinate_vectors[0],\n",
    "                                         y=grid.coordinate_vectors[1],\n",
    "                                         colorscale=\"Jet\",\n",
    "                                         contours={\n",
    "                                             \"z\": {\n",
    "                                                 \"show\": True,\n",
    "                                                 \"start\": 0.00,\n",
    "                                                 \"end\": 0.00,\n",
    "                                                 \"size\": 1\n",
    "                                             }\n",
    "                                         }))\n",
    "f.update_layout(title=\"Reachable Set for MzNonlinearCar (norm)\",\n",
    "                  scene=dict(xaxis_title=\"x1\",\n",
    "                             yaxis_title=\"x2\",\n",
    "                             zaxis_title=\"value\"),\n",
    "                  width=800,\n",
    "                  height=800,\n",
    "                  xaxis=dict(range=[-x1_lim, x1_lim]),\n",
    "                  yaxis=dict(range=[-x2_lim, x2_lim]),\n",
    "                  scene_aspectmode='cube')\n",
    "f.show()"
   ],
   "id": "9792695784417901",
   "outputs": [],
   "execution_count": null
  },
  {
   "metadata": {},
   "cell_type": "code",
   "source": [
    "f = go.Figure(data=go.Surface(z=target_values_vi[:, :].T,\n",
    "                                         x=grid.coordinate_vectors[0],\n",
    "                                         y=grid.coordinate_vectors[1],\n",
    "                                         colorscale=\"Jet\",\n",
    "                                         contours={\n",
    "                                             \"z\": {\n",
    "                                                 \"show\": True,\n",
    "                                                 \"start\": 0.00,\n",
    "                                                 \"end\": 0.00,\n",
    "                                                 \"size\": 1\n",
    "                                             }\n",
    "                                         }))\n",
    "f.update_layout(title=\"Reachable Set for MzNonlinearCar (Alt)\",\n",
    "                  scene=dict(xaxis_title=\"x1\",\n",
    "                             yaxis_title=\"x2\",\n",
    "                             zaxis_title=\"value\"),\n",
    "                  width=800,\n",
    "                  height=800,\n",
    "                  xaxis=dict(range=[-x1_lim, x1_lim]),\n",
    "                  yaxis=dict(range=[-x2_lim, x2_lim]),\n",
    "                  scene_aspectmode='cube')\n",
    "f.show()"
   ],
   "id": "992eb27a5c74213b",
   "outputs": [],
   "execution_count": null
  },
  {
   "metadata": {},
   "cell_type": "code",
   "source": [
    "f = go.Figure(data=go.Surface(z=target_values_vi[:, :].T - target_values[:, :].T,\n",
    "                                         x=grid.coordinate_vectors[0],\n",
    "                                         y=grid.coordinate_vectors[1],\n",
    "                                         colorscale=\"Jet\",\n",
    "                                         contours={\n",
    "                                             \"z\": {\n",
    "                                                 \"show\": True,\n",
    "                                                 \"start\": 0.00,\n",
    "                                                 \"end\": 0.00,\n",
    "                                                 \"size\": 1\n",
    "                                             }\n",
    "                                         }))\n",
    "f.update_layout(title=\"Difference in sets\",\n",
    "                  scene=dict(xaxis_title=\"x1\",\n",
    "                             yaxis_title=\"x2\",\n",
    "                             zaxis_title=\"value\"),\n",
    "                  width=800,\n",
    "                  height=800,\n",
    "                  xaxis=dict(range=[-x1_lim, x1_lim]),\n",
    "                  yaxis=dict(range=[-x2_lim, x2_lim]),\n",
    "                  scene_aspectmode='cube')\n",
    "f.show()"
   ],
   "id": "9803deb59757a62b",
   "outputs": [],
   "execution_count": null
  }
 ],
 "metadata": {
  "kernelspec": {
   "display_name": "Python 3",
   "language": "python",
   "name": "python3"
  },
  "language_info": {
   "codemirror_mode": {
    "name": "ipython",
    "version": 2
   },
   "file_extension": ".py",
   "mimetype": "text/x-python",
   "name": "python",
   "nbconvert_exporter": "python",
   "pygments_lexer": "ipython2",
   "version": "2.7.6"
  }
 },
 "nbformat": 4,
 "nbformat_minor": 5
}
