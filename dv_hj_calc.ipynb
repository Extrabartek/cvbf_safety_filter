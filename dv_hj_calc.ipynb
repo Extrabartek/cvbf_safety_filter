{
 "cells": [
  {
   "metadata": {
    "ExecuteTime": {
     "end_time": "2025-06-23T19:53:33.654339Z",
     "start_time": "2025-06-23T19:53:32.987535Z"
    }
   },
   "cell_type": "code",
   "source": [
    "import os\n",
    "\n",
    "os.environ['XLA_PYTHON_CLIENT_MEM_FRACTION'] = '1.0'\n",
    "\n",
    "import jax.numpy as jnp\n",
    "import numpy as np\n",
    "\n",
    "import matplotlib.pyplot as plt\n",
    "\n",
    "import plotly.io as pio\n",
    "pio.renderers.default = \"browser\"\n",
    "\n",
    "import plotly.graph_objects as go\n",
    "\n",
    "import cbvf_reachability as hj\n",
    "\n",
    "from dyn_sys.DvNonlinearCar import DvNonlinearCar\n"
   ],
   "id": "7fd53e671e58ffca",
   "outputs": [],
   "execution_count": 1
  },
  {
   "metadata": {
    "ExecuteTime": {
     "end_time": "2025-06-23T19:53:34.180866Z",
     "start_time": "2025-06-23T19:53:33.722993Z"
    }
   },
   "cell_type": "code",
   "source": [
    "dynamics = DvNonlinearCar()\n",
    "\n",
    "# limits of the grid in degrees\n",
    "x1_lim = 180\n",
    "x2_lim = 35\n",
    "x3_lim = 0.4\n",
    "\n",
    "radius = 5\n",
    "\n",
    "x1_lim = x1_lim * jnp.pi / 180\n",
    "x2_lim = x2_lim * jnp.pi / 180\n",
    "radius = radius * jnp.pi / 180\n",
    "\n",
    "grid_size = (300, 300, 300) # count of grid points in each dimension\n",
    "\n",
    "# for 4GB VRAM GPU, the grid size limit is around 300^3\n",
    "\n",
    "grid = hj.Grid.from_lattice_parameters_and_boundary_conditions(hj.sets.Box(np.array([-x1_lim, -x2_lim, -x3_lim]),\n",
    "                                                                           np.array([x1_lim, x2_lim, x3_lim])),\n",
    "                                                                           grid_size)\n",
    "time = 0.\n",
    "target_time = -0.7\n"
   ],
   "id": "49fbfc945ba67fa1",
   "outputs": [],
   "execution_count": 2
  },
  {
   "metadata": {
    "ExecuteTime": {
     "end_time": "2025-06-23T19:53:38.726373Z",
     "start_time": "2025-06-23T19:53:34.379637Z"
    }
   },
   "cell_type": "code",
   "source": [
    "gamma_list = [0, 1]\n",
    "target_values = []\n",
    "\n",
    "for gamma in gamma_list:\n",
    "    solver_settings = hj.SolverSettings.with_accuracy(\"very_high\",\n",
    "                                                  hamiltonian_postprocessor=hj.solver.backwards_reachable_tube,)\n",
    "    values = jnp.linalg.norm(grid.states[..., :3], axis=-1) - radius\n",
    "    target_values.append([hj.step(solver_settings, dynamics, grid, time, values, target_time)])"
   ],
   "id": "6407e8cdd161bda4",
   "outputs": [
    {
     "name": "stderr",
     "output_type": "stream",
     "text": [
      "\n",
      "KeyboardInterrupt\n",
      "\n"
     ]
    },
    {
     "ename": "KeyboardInterrupt",
     "evalue": "",
     "output_type": "error",
     "traceback": [
      "\u001B[31m---------------------------------------------------------------------------\u001B[39m",
      "\u001B[31mKeyboardInterrupt\u001B[39m                         Traceback (most recent call last)",
      "\u001B[36mFile \u001B[39m\u001B[32m~/Documents/master_thesis/code_base/CVBF_testing/.venv/lib/python3.13/site-packages/IPython/core/async_helpers.py:128\u001B[39m, in \u001B[36m_pseudo_sync_runner\u001B[39m\u001B[34m(coro)\u001B[39m\n\u001B[32m    120\u001B[39m \u001B[38;5;250m\u001B[39m\u001B[33;03m\"\"\"\u001B[39;00m\n\u001B[32m    121\u001B[39m \u001B[33;03mA runner that does not really allow async execution, and just advance the coroutine.\u001B[39;00m\n\u001B[32m    122\u001B[39m \n\u001B[32m   (...)\u001B[39m\u001B[32m    125\u001B[39m \u001B[33;03mCredit to Nathaniel Smith\u001B[39;00m\n\u001B[32m    126\u001B[39m \u001B[33;03m\"\"\"\u001B[39;00m\n\u001B[32m    127\u001B[39m \u001B[38;5;28;01mtry\u001B[39;00m:\n\u001B[32m--> \u001B[39m\u001B[32m128\u001B[39m     \u001B[43mcoro\u001B[49m\u001B[43m.\u001B[49m\u001B[43msend\u001B[49m\u001B[43m(\u001B[49m\u001B[38;5;28;43;01mNone\u001B[39;49;00m\u001B[43m)\u001B[49m\n\u001B[32m    129\u001B[39m \u001B[38;5;28;01mexcept\u001B[39;00m \u001B[38;5;167;01mStopIteration\u001B[39;00m \u001B[38;5;28;01mas\u001B[39;00m exc:\n\u001B[32m    130\u001B[39m     \u001B[38;5;28;01mreturn\u001B[39;00m exc.value\n",
      "\u001B[36mFile \u001B[39m\u001B[32m~/Documents/master_thesis/code_base/CVBF_testing/.venv/lib/python3.13/site-packages/IPython/core/interactiveshell.py:3386\u001B[39m, in \u001B[36mInteractiveShell.run_cell_async\u001B[39m\u001B[34m(self, raw_cell, store_history, silent, shell_futures, transformed_cell, preprocessing_exc_tuple, cell_id)\u001B[39m\n\u001B[32m   3382\u001B[39m exec_count = \u001B[38;5;28mself\u001B[39m.execution_count\n\u001B[32m   3383\u001B[39m \u001B[38;5;28;01mif\u001B[39;00m result.error_in_exec:\n\u001B[32m   3384\u001B[39m     \u001B[38;5;66;03m# Store formatted traceback and error details\u001B[39;00m\n\u001B[32m   3385\u001B[39m     \u001B[38;5;28mself\u001B[39m.history_manager.exceptions[exec_count] = (\n\u001B[32m-> \u001B[39m\u001B[32m3386\u001B[39m         \u001B[38;5;28;43mself\u001B[39;49m\u001B[43m.\u001B[49m\u001B[43m_format_exception_for_storage\u001B[49m\u001B[43m(\u001B[49m\u001B[43mresult\u001B[49m\u001B[43m.\u001B[49m\u001B[43merror_in_exec\u001B[49m\u001B[43m)\u001B[49m\n\u001B[32m   3387\u001B[39m     )\n\u001B[32m   3389\u001B[39m \u001B[38;5;66;03m# Each cell is a *single* input, regardless of how many lines it has\u001B[39;00m\n\u001B[32m   3390\u001B[39m \u001B[38;5;28mself\u001B[39m.execution_count += \u001B[32m1\u001B[39m\n",
      "\u001B[36mFile \u001B[39m\u001B[32m~/Documents/master_thesis/code_base/CVBF_testing/.venv/lib/python3.13/site-packages/IPython/core/interactiveshell.py:3440\u001B[39m, in \u001B[36mInteractiveShell._format_exception_for_storage\u001B[39m\u001B[34m(self, exception, filename, running_compiled_code)\u001B[39m\n\u001B[32m   3437\u001B[39m         stb = evalue._render_traceback_()\n\u001B[32m   3438\u001B[39m     \u001B[38;5;28;01melse\u001B[39;00m:\n\u001B[32m   3439\u001B[39m         \u001B[38;5;66;03m# Otherwise, use InteractiveTB to format the traceback.\u001B[39;00m\n\u001B[32m-> \u001B[39m\u001B[32m3440\u001B[39m         stb = \u001B[38;5;28;43mself\u001B[39;49m\u001B[43m.\u001B[49m\u001B[43mInteractiveTB\u001B[49m\u001B[43m.\u001B[49m\u001B[43mstructured_traceback\u001B[49m\u001B[43m(\u001B[49m\n\u001B[32m   3441\u001B[39m \u001B[43m            \u001B[49m\u001B[43metype\u001B[49m\u001B[43m,\u001B[49m\u001B[43m \u001B[49m\u001B[43mevalue\u001B[49m\u001B[43m,\u001B[49m\u001B[43m \u001B[49m\u001B[43mtb\u001B[49m\u001B[43m,\u001B[49m\u001B[43m \u001B[49m\u001B[43mtb_offset\u001B[49m\u001B[43m=\u001B[49m\u001B[32;43m1\u001B[39;49m\n\u001B[32m   3442\u001B[39m \u001B[43m        \u001B[49m\u001B[43m)\u001B[49m\n\u001B[32m   3443\u001B[39m \u001B[38;5;28;01mexcept\u001B[39;00m \u001B[38;5;167;01mException\u001B[39;00m:\n\u001B[32m   3444\u001B[39m     \u001B[38;5;66;03m# In case formatting fails, fallback to Python's built-in formatting.\u001B[39;00m\n\u001B[32m   3445\u001B[39m     stb = traceback.format_exception(etype, evalue, tb)\n",
      "\u001B[36mFile \u001B[39m\u001B[32m~/Documents/master_thesis/code_base/CVBF_testing/.venv/lib/python3.13/site-packages/IPython/core/ultratb.py:1182\u001B[39m, in \u001B[36mAutoFormattedTB.structured_traceback\u001B[39m\u001B[34m(self, etype, evalue, etb, tb_offset, context)\u001B[39m\n\u001B[32m   1180\u001B[39m \u001B[38;5;28;01melse\u001B[39;00m:\n\u001B[32m   1181\u001B[39m     \u001B[38;5;28mself\u001B[39m.tb = etb\n\u001B[32m-> \u001B[39m\u001B[32m1182\u001B[39m \u001B[38;5;28;01mreturn\u001B[39;00m \u001B[43mFormattedTB\u001B[49m\u001B[43m.\u001B[49m\u001B[43mstructured_traceback\u001B[49m\u001B[43m(\u001B[49m\n\u001B[32m   1183\u001B[39m \u001B[43m    \u001B[49m\u001B[38;5;28;43mself\u001B[39;49m\u001B[43m,\u001B[49m\u001B[43m \u001B[49m\u001B[43metype\u001B[49m\u001B[43m,\u001B[49m\u001B[43m \u001B[49m\u001B[43mevalue\u001B[49m\u001B[43m,\u001B[49m\u001B[43m \u001B[49m\u001B[43metb\u001B[49m\u001B[43m,\u001B[49m\u001B[43m \u001B[49m\u001B[43mtb_offset\u001B[49m\u001B[43m,\u001B[49m\u001B[43m \u001B[49m\u001B[43mcontext\u001B[49m\n\u001B[32m   1184\u001B[39m \u001B[43m\u001B[49m\u001B[43m)\u001B[49m\n",
      "\u001B[36mFile \u001B[39m\u001B[32m~/Documents/master_thesis/code_base/CVBF_testing/.venv/lib/python3.13/site-packages/IPython/core/ultratb.py:1053\u001B[39m, in \u001B[36mFormattedTB.structured_traceback\u001B[39m\u001B[34m(self, etype, evalue, etb, tb_offset, context)\u001B[39m\n\u001B[32m   1050\u001B[39m mode = \u001B[38;5;28mself\u001B[39m.mode\n\u001B[32m   1051\u001B[39m \u001B[38;5;28;01mif\u001B[39;00m mode \u001B[38;5;129;01min\u001B[39;00m \u001B[38;5;28mself\u001B[39m.verbose_modes:\n\u001B[32m   1052\u001B[39m     \u001B[38;5;66;03m# Verbose modes need a full traceback\u001B[39;00m\n\u001B[32m-> \u001B[39m\u001B[32m1053\u001B[39m     \u001B[38;5;28;01mreturn\u001B[39;00m \u001B[43mVerboseTB\u001B[49m\u001B[43m.\u001B[49m\u001B[43mstructured_traceback\u001B[49m\u001B[43m(\u001B[49m\n\u001B[32m   1054\u001B[39m \u001B[43m        \u001B[49m\u001B[38;5;28;43mself\u001B[39;49m\u001B[43m,\u001B[49m\u001B[43m \u001B[49m\u001B[43metype\u001B[49m\u001B[43m,\u001B[49m\u001B[43m \u001B[49m\u001B[43mevalue\u001B[49m\u001B[43m,\u001B[49m\u001B[43m \u001B[49m\u001B[43metb\u001B[49m\u001B[43m,\u001B[49m\u001B[43m \u001B[49m\u001B[43mtb_offset\u001B[49m\u001B[43m,\u001B[49m\u001B[43m \u001B[49m\u001B[43mcontext\u001B[49m\n\u001B[32m   1055\u001B[39m \u001B[43m    \u001B[49m\u001B[43m)\u001B[49m\n\u001B[32m   1056\u001B[39m \u001B[38;5;28;01melif\u001B[39;00m mode == \u001B[33m\"\u001B[39m\u001B[33mDocs\u001B[39m\u001B[33m\"\u001B[39m:\n\u001B[32m   1057\u001B[39m     \u001B[38;5;66;03m# return DocTB\u001B[39;00m\n\u001B[32m   1058\u001B[39m     \u001B[38;5;28;01mreturn\u001B[39;00m DocTB(\n\u001B[32m   1059\u001B[39m         theme_name=\u001B[38;5;28mself\u001B[39m._theme_name,\n\u001B[32m   1060\u001B[39m         call_pdb=\u001B[38;5;28mself\u001B[39m.call_pdb,\n\u001B[32m   (...)\u001B[39m\u001B[32m   1068\u001B[39m         etype, evalue, etb, tb_offset, \u001B[32m1\u001B[39m\n\u001B[32m   1069\u001B[39m     )  \u001B[38;5;66;03m# type: ignore[arg-type]\u001B[39;00m\n",
      "\u001B[36mFile \u001B[39m\u001B[32m~/Documents/master_thesis/code_base/CVBF_testing/.venv/lib/python3.13/site-packages/IPython/core/ultratb.py:889\u001B[39m, in \u001B[36mVerboseTB.structured_traceback\u001B[39m\u001B[34m(self, etype, evalue, etb, tb_offset, context)\u001B[39m\n\u001B[32m    887\u001B[39m chained_exc_ids = \u001B[38;5;28mset\u001B[39m()\n\u001B[32m    888\u001B[39m \u001B[38;5;28;01mwhile\u001B[39;00m evalue:\n\u001B[32m--> \u001B[39m\u001B[32m889\u001B[39m     formatted_exceptions += \u001B[38;5;28;43mself\u001B[39;49m\u001B[43m.\u001B[49m\u001B[43mformat_exception_as_a_whole\u001B[49m\u001B[43m(\u001B[49m\n\u001B[32m    890\u001B[39m \u001B[43m        \u001B[49m\u001B[43metype\u001B[49m\u001B[43m,\u001B[49m\u001B[43m \u001B[49m\u001B[43mevalue\u001B[49m\u001B[43m,\u001B[49m\u001B[43m \u001B[49m\u001B[43metb\u001B[49m\u001B[43m,\u001B[49m\u001B[43m \u001B[49m\u001B[43mlines_of_context\u001B[49m\u001B[43m,\u001B[49m\u001B[43m \u001B[49m\u001B[43mchained_exceptions_tb_offset\u001B[49m\n\u001B[32m    891\u001B[39m \u001B[43m    \u001B[49m\u001B[43m)\u001B[49m\n\u001B[32m    892\u001B[39m     exception = \u001B[38;5;28mself\u001B[39m.get_parts_of_chained_exception(evalue)\n\u001B[32m    894\u001B[39m     \u001B[38;5;28;01mif\u001B[39;00m exception \u001B[38;5;129;01mand\u001B[39;00m \u001B[38;5;28mid\u001B[39m(exception[\u001B[32m1\u001B[39m]) \u001B[38;5;129;01mnot\u001B[39;00m \u001B[38;5;129;01min\u001B[39;00m chained_exc_ids:\n",
      "\u001B[36mFile \u001B[39m\u001B[32m~/Documents/master_thesis/code_base/CVBF_testing/.venv/lib/python3.13/site-packages/IPython/core/ultratb.py:746\u001B[39m, in \u001B[36mVerboseTB.format_exception_as_a_whole\u001B[39m\u001B[34m(self, etype, evalue, etb, context, tb_offset)\u001B[39m\n\u001B[32m    744\u001B[39m \u001B[38;5;28;01massert\u001B[39;00m \u001B[38;5;28misinstance\u001B[39m(tb_offset, \u001B[38;5;28mint\u001B[39m)\n\u001B[32m    745\u001B[39m head = \u001B[38;5;28mself\u001B[39m.prepare_header(\u001B[38;5;28mstr\u001B[39m(etype), \u001B[38;5;28mself\u001B[39m.long_header)\n\u001B[32m--> \u001B[39m\u001B[32m746\u001B[39m records = \u001B[38;5;28;43mself\u001B[39;49m\u001B[43m.\u001B[49m\u001B[43mget_records\u001B[49m\u001B[43m(\u001B[49m\u001B[43metb\u001B[49m\u001B[43m,\u001B[49m\u001B[43m \u001B[49m\u001B[43mcontext\u001B[49m\u001B[43m,\u001B[49m\u001B[43m \u001B[49m\u001B[43mtb_offset\u001B[49m\u001B[43m)\u001B[49m \u001B[38;5;28;01mif\u001B[39;00m etb \u001B[38;5;28;01melse\u001B[39;00m []\n\u001B[32m    748\u001B[39m frames = []\n\u001B[32m    749\u001B[39m skipped = \u001B[32m0\u001B[39m\n",
      "\u001B[36mFile \u001B[39m\u001B[32m~/Documents/master_thesis/code_base/CVBF_testing/.venv/lib/python3.13/site-packages/IPython/core/ultratb.py:848\u001B[39m, in \u001B[36mVerboseTB.get_records\u001B[39m\u001B[34m(self, etb, context, tb_offset)\u001B[39m\n\u001B[32m    842\u001B[39m         FIs.append(\n\u001B[32m    843\u001B[39m             FrameInfo(\n\u001B[32m    844\u001B[39m                 \u001B[33m\"\u001B[39m\u001B[33mRaw frame\u001B[39m\u001B[33m\"\u001B[39m, filename, lineno, frame, code, context=context\n\u001B[32m    845\u001B[39m             )\n\u001B[32m    846\u001B[39m         )\n\u001B[32m    847\u001B[39m     \u001B[38;5;28;01mreturn\u001B[39;00m FIs\n\u001B[32m--> \u001B[39m\u001B[32m848\u001B[39m res = \u001B[38;5;28;43mlist\u001B[39;49m\u001B[43m(\u001B[49m\u001B[43mstack_data\u001B[49m\u001B[43m.\u001B[49m\u001B[43mFrameInfo\u001B[49m\u001B[43m.\u001B[49m\u001B[43mstack_data\u001B[49m\u001B[43m(\u001B[49m\u001B[43metb\u001B[49m\u001B[43m,\u001B[49m\u001B[43m \u001B[49m\u001B[43moptions\u001B[49m\u001B[43m=\u001B[49m\u001B[43moptions\u001B[49m\u001B[43m)\u001B[49m\u001B[43m)\u001B[49m[tb_offset:]\n\u001B[32m    849\u001B[39m res2 = [FrameInfo._from_stack_data_FrameInfo(r) \u001B[38;5;28;01mfor\u001B[39;00m r \u001B[38;5;129;01min\u001B[39;00m res]\n\u001B[32m    850\u001B[39m \u001B[38;5;28;01mreturn\u001B[39;00m res2\n",
      "\u001B[36mFile \u001B[39m\u001B[32m~/Documents/master_thesis/code_base/CVBF_testing/.venv/lib/python3.13/site-packages/stack_data/core.py:597\u001B[39m, in \u001B[36mFrameInfo.stack_data\u001B[39m\u001B[34m(cls, frame_or_tb, options, collapse_repeated_frames)\u001B[39m\n\u001B[32m    594\u001B[39m     frame, lineno = frame_and_lineno(x)\n\u001B[32m    595\u001B[39m     \u001B[38;5;28;01mreturn\u001B[39;00m frame.f_code, lineno\n\u001B[32m--> \u001B[39m\u001B[32m597\u001B[39m \u001B[38;5;28;01myield from\u001B[39;00m collapse_repeated(\n\u001B[32m    598\u001B[39m     stack,\n\u001B[32m    599\u001B[39m     mapper=mapper,\n\u001B[32m    600\u001B[39m     collapser=RepeatedFrames,\n\u001B[32m    601\u001B[39m     key=_frame_key,\n\u001B[32m    602\u001B[39m )\n",
      "\u001B[36mFile \u001B[39m\u001B[32m~/Documents/master_thesis/code_base/CVBF_testing/.venv/lib/python3.13/site-packages/stack_data/utils.py:83\u001B[39m, in \u001B[36mcollapse_repeated\u001B[39m\u001B[34m(lst, collapser, mapper, key)\u001B[39m\n\u001B[32m     81\u001B[39m original_group, highlighted_group = \u001B[38;5;28mzip\u001B[39m(*group)\n\u001B[32m     82\u001B[39m \u001B[38;5;28;01mif\u001B[39;00m is_highlighted:\n\u001B[32m---> \u001B[39m\u001B[32m83\u001B[39m     \u001B[38;5;28;01myield from\u001B[39;00m \u001B[38;5;28mmap\u001B[39m(mapper, original_group)\n\u001B[32m     84\u001B[39m \u001B[38;5;28;01melse\u001B[39;00m:\n\u001B[32m     85\u001B[39m     keyed_group, _ = \u001B[38;5;28mzip\u001B[39m(*highlighted_group)\n",
      "\u001B[36mFile \u001B[39m\u001B[32m~/Documents/master_thesis/code_base/CVBF_testing/.venv/lib/python3.13/site-packages/stack_data/core.py:587\u001B[39m, in \u001B[36mFrameInfo.stack_data.<locals>.mapper\u001B[39m\u001B[34m(f)\u001B[39m\n\u001B[32m    586\u001B[39m \u001B[38;5;28;01mdef\u001B[39;00m\u001B[38;5;250m \u001B[39m\u001B[34mmapper\u001B[39m(f):\n\u001B[32m--> \u001B[39m\u001B[32m587\u001B[39m     \u001B[38;5;28;01mreturn\u001B[39;00m \u001B[38;5;28;43mcls\u001B[39;49m\u001B[43m(\u001B[49m\u001B[43mf\u001B[49m\u001B[43m,\u001B[49m\u001B[43m \u001B[49m\u001B[43moptions\u001B[49m\u001B[43m)\u001B[49m\n",
      "\u001B[36mFile \u001B[39m\u001B[32m~/Documents/master_thesis/code_base/CVBF_testing/.venv/lib/python3.13/site-packages/stack_data/core.py:551\u001B[39m, in \u001B[36mFrameInfo.__init__\u001B[39m\u001B[34m(self, frame_or_tb, options)\u001B[39m\n\u001B[32m    546\u001B[39m \u001B[38;5;28;01mdef\u001B[39;00m\u001B[38;5;250m \u001B[39m\u001B[34m__init__\u001B[39m(\n\u001B[32m    547\u001B[39m         \u001B[38;5;28mself\u001B[39m,\n\u001B[32m    548\u001B[39m         frame_or_tb: Union[FrameType, TracebackType],\n\u001B[32m    549\u001B[39m         options: Optional[Options] = \u001B[38;5;28;01mNone\u001B[39;00m,\n\u001B[32m    550\u001B[39m ):\n\u001B[32m--> \u001B[39m\u001B[32m551\u001B[39m     \u001B[38;5;28mself\u001B[39m.executing = \u001B[43mSource\u001B[49m\u001B[43m.\u001B[49m\u001B[43mexecuting\u001B[49m\u001B[43m(\u001B[49m\u001B[43mframe_or_tb\u001B[49m\u001B[43m)\u001B[49m\n\u001B[32m    552\u001B[39m     frame, \u001B[38;5;28mself\u001B[39m.lineno = frame_and_lineno(frame_or_tb)\n\u001B[32m    553\u001B[39m     \u001B[38;5;28mself\u001B[39m.frame = frame\n",
      "\u001B[36mFile \u001B[39m\u001B[32m~/Documents/master_thesis/code_base/CVBF_testing/.venv/lib/python3.13/site-packages/executing/executing.py:264\u001B[39m, in \u001B[36mSource.executing\u001B[39m\u001B[34m(cls, frame_or_tb)\u001B[39m\n\u001B[32m    262\u001B[39m \u001B[38;5;28;01mif\u001B[39;00m \u001B[38;5;129;01mnot\u001B[39;00m args:\n\u001B[32m    263\u001B[39m     node = stmts = decorator = \u001B[38;5;28;01mNone\u001B[39;00m\n\u001B[32m--> \u001B[39m\u001B[32m264\u001B[39m     source = \u001B[38;5;28;43mcls\u001B[39;49m\u001B[43m.\u001B[49m\u001B[43mfor_frame\u001B[49m\u001B[43m(\u001B[49m\u001B[43mframe\u001B[49m\u001B[43m)\u001B[49m\n\u001B[32m    265\u001B[39m     tree = source.tree\n\u001B[32m    266\u001B[39m     \u001B[38;5;28;01mif\u001B[39;00m tree:\n",
      "\u001B[36mFile \u001B[39m\u001B[32m~/Documents/master_thesis/code_base/CVBF_testing/.venv/lib/python3.13/site-packages/executing/executing.py:183\u001B[39m, in \u001B[36mSource.for_frame\u001B[39m\u001B[34m(cls, frame, use_cache)\u001B[39m\n\u001B[32m    177\u001B[39m \u001B[38;5;129m@classmethod\u001B[39m\n\u001B[32m    178\u001B[39m \u001B[38;5;28;01mdef\u001B[39;00m\u001B[38;5;250m \u001B[39m\u001B[34mfor_frame\u001B[39m(\u001B[38;5;28mcls\u001B[39m, frame, use_cache=\u001B[38;5;28;01mTrue\u001B[39;00m):\n\u001B[32m    179\u001B[39m     \u001B[38;5;66;03m# type: (types.FrameType, bool) -> \"Source\"\u001B[39;00m\n\u001B[32m    180\u001B[39m \u001B[38;5;250m    \u001B[39m\u001B[33;03m\"\"\"\u001B[39;00m\n\u001B[32m    181\u001B[39m \u001B[33;03m    Returns the `Source` object corresponding to the file the frame is executing in.\u001B[39;00m\n\u001B[32m    182\u001B[39m \u001B[33;03m    \"\"\"\u001B[39;00m\n\u001B[32m--> \u001B[39m\u001B[32m183\u001B[39m     \u001B[38;5;28;01mreturn\u001B[39;00m \u001B[38;5;28;43mcls\u001B[39;49m\u001B[43m.\u001B[49m\u001B[43mfor_filename\u001B[49m\u001B[43m(\u001B[49m\u001B[43mframe\u001B[49m\u001B[43m.\u001B[49m\u001B[43mf_code\u001B[49m\u001B[43m.\u001B[49m\u001B[43mco_filename\u001B[49m\u001B[43m,\u001B[49m\u001B[43m \u001B[49m\u001B[43mframe\u001B[49m\u001B[43m.\u001B[49m\u001B[43mf_globals\u001B[49m\u001B[43m \u001B[49m\u001B[38;5;129;43;01mor\u001B[39;49;00m\u001B[43m \u001B[49m\u001B[43m{\u001B[49m\u001B[43m}\u001B[49m\u001B[43m,\u001B[49m\u001B[43m \u001B[49m\u001B[43muse_cache\u001B[49m\u001B[43m)\u001B[49m\n",
      "\u001B[36mFile \u001B[39m\u001B[32m~/Documents/master_thesis/code_base/CVBF_testing/.venv/lib/python3.13/site-packages/executing/executing.py:212\u001B[39m, in \u001B[36mSource.for_filename\u001B[39m\u001B[34m(cls, filename, module_globals, use_cache)\u001B[39m\n\u001B[32m    209\u001B[39m     linecache.cache[filename] = entry \u001B[38;5;66;03m# type: ignore[attr-defined]\u001B[39;00m\n\u001B[32m    210\u001B[39m     lines = get_lines()\n\u001B[32m--> \u001B[39m\u001B[32m212\u001B[39m \u001B[38;5;28;01mreturn\u001B[39;00m \u001B[38;5;28;43mcls\u001B[39;49m\u001B[43m.\u001B[49m\u001B[43m_for_filename_and_lines\u001B[49m\u001B[43m(\u001B[49m\u001B[43mfilename\u001B[49m\u001B[43m,\u001B[49m\u001B[43m \u001B[49m\u001B[38;5;28;43mtuple\u001B[39;49m\u001B[43m(\u001B[49m\u001B[43mlines\u001B[49m\u001B[43m)\u001B[49m\u001B[43m)\u001B[49m\n",
      "\u001B[36mFile \u001B[39m\u001B[32m~/Documents/master_thesis/code_base/CVBF_testing/.venv/lib/python3.13/site-packages/executing/executing.py:223\u001B[39m, in \u001B[36mSource._for_filename_and_lines\u001B[39m\u001B[34m(cls, filename, lines)\u001B[39m\n\u001B[32m    220\u001B[39m \u001B[38;5;28;01mexcept\u001B[39;00m \u001B[38;5;167;01mKeyError\u001B[39;00m:\n\u001B[32m    221\u001B[39m     \u001B[38;5;28;01mpass\u001B[39;00m\n\u001B[32m--> \u001B[39m\u001B[32m223\u001B[39m result = source_cache[(filename, lines)] = \u001B[38;5;28;43mcls\u001B[39;49m\u001B[43m(\u001B[49m\u001B[43mfilename\u001B[49m\u001B[43m,\u001B[49m\u001B[43m \u001B[49m\u001B[43mlines\u001B[49m\u001B[43m)\u001B[49m\n\u001B[32m    224\u001B[39m \u001B[38;5;28;01mreturn\u001B[39;00m result\n",
      "\u001B[36mFile \u001B[39m\u001B[32m~/Documents/master_thesis/code_base/CVBF_testing/.venv/lib/python3.13/site-packages/executing/executing.py:154\u001B[39m, in \u001B[36mSource.__init__\u001B[39m\u001B[34m(self, filename, lines)\u001B[39m\n\u001B[32m    152\u001B[39m \u001B[38;5;28mself\u001B[39m.filename = filename\n\u001B[32m    153\u001B[39m \u001B[38;5;28mself\u001B[39m.text = \u001B[33m'\u001B[39m\u001B[33m'\u001B[39m.join(lines)\n\u001B[32m--> \u001B[39m\u001B[32m154\u001B[39m \u001B[38;5;28mself\u001B[39m.lines = [\u001B[43mline\u001B[49m\u001B[43m.\u001B[49m\u001B[43mrstrip\u001B[49m\u001B[43m(\u001B[49m\u001B[33;43m'\u001B[39;49m\u001B[38;5;130;43;01m\\r\u001B[39;49;00m\u001B[38;5;130;43;01m\\n\u001B[39;49;00m\u001B[33;43m'\u001B[39;49m\u001B[43m)\u001B[49m \u001B[38;5;28;01mfor\u001B[39;00m line \u001B[38;5;129;01min\u001B[39;00m lines]\n\u001B[32m    156\u001B[39m \u001B[38;5;28mself\u001B[39m._nodes_by_line = defaultdict(\u001B[38;5;28mlist\u001B[39m)\n\u001B[32m    157\u001B[39m \u001B[38;5;28mself\u001B[39m.tree = \u001B[38;5;28;01mNone\u001B[39;00m\n",
      "\u001B[31mKeyboardInterrupt\u001B[39m: "
     ]
    }
   ],
   "execution_count": 2
  },
  {
   "metadata": {},
   "cell_type": "code",
   "source": [
    "slice = grid_size[-1] // 2\n",
    "#slice = 120\n",
    "plt.jet()\n",
    "\n",
    "f, ax = plt.subplots(1, len(target_values), figsize=(13, 8))\n",
    "for i, result in enumerate(target_values):\n",
    "    ax[i].contourf(grid.coordinate_vectors[0], grid.coordinate_vectors[1], result[0][:, :, slice].T)\n",
    "    ax[i].contour(grid.coordinate_vectors[0],\n",
    "                grid.coordinate_vectors[1],\n",
    "                result[0][:, :, slice].T,\n",
    "                levels=0,\n",
    "                colors=\"black\",\n",
    "                linewidths=3)\n",
    "    ax[i].set_title(f\"gamma = {gamma_list[i]}\")\n",
    "f.colorbar(ax[0].collections[0], ax=ax, orientation='horizontal', fraction=0.02, pad=0.1)\n"
   ],
   "id": "943153633d74aafe",
   "outputs": [],
   "execution_count": null
  },
  {
   "metadata": {},
   "cell_type": "code",
   "source": [
    "for i, results in enumerate(target_values):\n",
    "    fig = go.Figure(data=go.Surface(x=grid.coordinate_vectors[0],\n",
    "                             y=grid.coordinate_vectors[1],\n",
    "                             z=results[0][:, :, slice].T,\n",
    "                             colorscale=\"jet\",\n",
    "                             showscale=True,\n",
    "                             ))\n",
    "    fig.update_layout(title=f\"gamma = {gamma_list[i]}\",\n",
    "                      scene=dict(\n",
    "                          xaxis_title='x1',\n",
    "                          yaxis_title='x2',\n",
    "                          zaxis_title='value',\n",
    "                      ))\n",
    "    fig.show()"
   ],
   "id": "93c7bd797909cd37",
   "outputs": [],
   "execution_count": null
  },
  {
   "metadata": {},
   "cell_type": "code",
   "source": [
    "for i, result in enumerate(target_values):\n",
    "    fig = go.Figure(data=go.Isosurface(x=grid.states[..., 0].ravel(),\n",
    "                                       y=grid.states[..., 1].ravel(),\n",
    "                                       z=grid.states[..., 2].ravel(),\n",
    "                                       value=result[0].ravel(),\n",
    "                                       isomin=0,\n",
    "                                       isomax=0,\n",
    "                                       surface_count=1,\n",
    "                                       colorscale=\"jet\"))\n",
    "    fig.update_layout(title=f\"gamma = {gamma_list[i]}\",\n",
    "                      scene=dict(\n",
    "                          xaxis_title='x1',\n",
    "                          yaxis_title='x2',\n",
    "                          zaxis_title='value',\n",
    "                      ))\n",
    "    fig.show()"
   ],
   "id": "24e8180795425f33",
   "outputs": [],
   "execution_count": null
  }
 ],
 "metadata": {
  "kernelspec": {
   "display_name": "Python 3",
   "language": "python",
   "name": "python3"
  },
  "language_info": {
   "codemirror_mode": {
    "name": "ipython",
    "version": 2
   },
   "file_extension": ".py",
   "mimetype": "text/x-python",
   "name": "python",
   "nbconvert_exporter": "python",
   "pygments_lexer": "ipython2",
   "version": "2.7.6"
  }
 },
 "nbformat": 4,
 "nbformat_minor": 5
}
