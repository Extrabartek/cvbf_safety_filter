{
 "cells": [
  {
   "metadata": {},
   "cell_type": "code",
   "source": [
    "import os\n",
    "\n",
    "os.environ['XLA_PYTHON_CLIENT_MEM_FRACTION'] = '1.0'\n",
    "\n",
    "import jax.numpy as jnp\n",
    "import numpy as np\n",
    "\n",
    "import matplotlib.pyplot as plt\n",
    "\n",
    "import plotly.io as pio\n",
    "pio.renderers.default = \"browser\"\n",
    "\n",
    "import plotly.graph_objects as go\n",
    "\n",
    "import hj_reachability as hj\n",
    "\n",
    "from dyn_sys.DvNonlinearCar import DvNonlinearCar\n"
   ],
   "id": "7fd53e671e58ffca",
   "outputs": [],
   "execution_count": null
  },
  {
   "metadata": {},
   "cell_type": "code",
   "source": [
    "dynamics = DvNonlinearCar()\n",
    "\n",
    "# limits of the grid in degrees\n",
    "x1_lim = 180\n",
    "x2_lim = 35\n",
    "x3_lim = 0.4\n",
    "\n",
    "radius = 5\n",
    "\n",
    "x1_lim = x1_lim * jnp.pi / 180\n",
    "x2_lim = x2_lim * jnp.pi / 180\n",
    "radius = radius * jnp.pi / 180\n",
    "\n",
    "grid_size = (300, 300, 300) # count of grid points in each dimension\n",
    "\n",
    "# for 4GB VRAM GPU, the grid size limit is around 300^3\n",
    "\n",
    "grid = hj.Grid.from_lattice_parameters_and_boundary_conditions(hj.sets.Box(np.array([-x1_lim, -x2_lim, -x3_lim]),\n",
    "                                                                           np.array([x1_lim, x2_lim, x3_lim])),\n",
    "                                                                           grid_size)\n",
    "time = 0.\n",
    "target_time = -0.7\n"
   ],
   "id": "49fbfc945ba67fa1",
   "outputs": [],
   "execution_count": null
  },
  {
   "metadata": {},
   "cell_type": "code",
   "source": [
    "gamma_list = [0, 1]\n",
    "target_values = []\n",
    "\n",
    "for gamma in gamma_list:\n",
    "    solver_settings = hj.SolverSettings.with_accuracy(\"very_high\",\n",
    "                                                  hamiltonian_postprocessor=hj.solver.backwards_reachable_tube,)\n",
    "    values = jnp.linalg.norm(grid.states[..., :3], axis=-1) - radius\n",
    "    target_values.append([hj.step(solver_settings, dynamics, grid, time, values, target_time)])"
   ],
   "id": "6407e8cdd161bda4",
   "outputs": [],
   "execution_count": null
  },
  {
   "metadata": {},
   "cell_type": "code",
   "source": [
    "slice = grid_size[-1] // 2\n",
    "#slice = 120\n",
    "plt.jet()\n",
    "\n",
    "f, ax = plt.subplots(1, len(target_values), figsize=(13, 8))\n",
    "for i, result in enumerate(target_values):\n",
    "    ax[i].contourf(grid.coordinate_vectors[0], grid.coordinate_vectors[1], result[0][:, :, slice].T)\n",
    "    ax[i].contour(grid.coordinate_vectors[0],\n",
    "                grid.coordinate_vectors[1],\n",
    "                result[0][:, :, slice].T,\n",
    "                levels=0,\n",
    "                colors=\"black\",\n",
    "                linewidths=3)\n",
    "    ax[i].set_title(f\"gamma = {gamma_list[i]}\")\n",
    "f.colorbar(ax[0].collections[0], ax=ax, orientation='horizontal', fraction=0.02, pad=0.1)\n"
   ],
   "id": "943153633d74aafe",
   "outputs": [],
   "execution_count": null
  },
  {
   "metadata": {},
   "cell_type": "code",
   "source": [
    "for i, results in enumerate(target_values):\n",
    "    fig = go.Figure(data=go.Surface(x=grid.coordinate_vectors[0],\n",
    "                             y=grid.coordinate_vectors[1],\n",
    "                             z=results[0][:, :, slice].T,\n",
    "                             colorscale=\"jet\",\n",
    "                             showscale=True,\n",
    "                             ))\n",
    "    fig.update_layout(title=f\"gamma = {gamma_list[i]}\",\n",
    "                      scene=dict(\n",
    "                          xaxis_title='x1',\n",
    "                          yaxis_title='x2',\n",
    "                          zaxis_title='value',\n",
    "                      ))\n",
    "    fig.show()"
   ],
   "id": "93c7bd797909cd37",
   "outputs": [],
   "execution_count": null
  },
  {
   "metadata": {},
   "cell_type": "code",
   "source": [
    "for i, result in enumerate(target_values):\n",
    "    fig = go.Figure(data=go.Isosurface(x=grid.states[..., 0].ravel(),\n",
    "                                       y=grid.states[..., 1].ravel(),\n",
    "                                       z=grid.states[..., 2].ravel(),\n",
    "                                       value=result[0].ravel(),\n",
    "                                       isomin=0,\n",
    "                                       isomax=0,\n",
    "                                       surface_count=1,\n",
    "                                       colorscale=\"jet\"))\n",
    "    fig.update_layout(title=f\"gamma = {gamma_list[i]}\",\n",
    "                      scene=dict(\n",
    "                          xaxis_title='x1',\n",
    "                          yaxis_title='x2',\n",
    "                          zaxis_title='value',\n",
    "                      ))\n",
    "    fig.show()"
   ],
   "id": "24e8180795425f33",
   "outputs": [],
   "execution_count": null
  }
 ],
 "metadata": {
  "kernelspec": {
   "display_name": "Python 3",
   "language": "python",
   "name": "python3"
  },
  "language_info": {
   "codemirror_mode": {
    "name": "ipython",
    "version": 2
   },
   "file_extension": ".py",
   "mimetype": "text/x-python",
   "name": "python",
   "nbconvert_exporter": "python",
   "pygments_lexer": "ipython2",
   "version": "2.7.6"
  }
 },
 "nbformat": 4,
 "nbformat_minor": 5
}
